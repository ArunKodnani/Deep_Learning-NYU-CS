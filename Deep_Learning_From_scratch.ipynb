{
 "cells": [
  {
   "cell_type": "markdown",
   "metadata": {
    "collapsed": true
   },
   "source": [
    
    "# This is an example of implementing a Deep Learning Neural Network from scratch using python."
   ]
  },
  {
   "cell_type": "markdown",
   "metadata": {},
   "source": [
    "<h1> References </h1>\n",
    "<p> Coursera Deep Learning Specialization </p>"
   ]
  },
  {
   "cell_type": "code",
   "execution_count": 1,
   "metadata": {
    "collapsed": true
   },
   "outputs": [],
   "source": [
    "%matplotlib inline\n",
    "import matplotlib.pyplot as plt\n",
    "import numpy as np\n",
    "import scipy.misc\n",
    "from scipy.ndimage import imread\n",
    "import glob\n",
    "import sys\n",
    "# you shouldn't need to make any more imports\n"
   ]
  },
  {
   "cell_type": "code",
   "execution_count": 11,
   "metadata": {
    "collapsed": true
   },
   "outputs": [],
   "source": [
    "class NeuralNetwork(object):\n",
    "    \"\"\"\n",
    "    Abstraction of neural network.\n",
    "    Stores parameters, activations, cached values. \n",
    "    Provides necessary functions for training and prediction. \n",
    "    \"\"\"\n",
    "    def __init__(self, layer_dimensions, drop_prob=0.0, reg_lambda=0.0):\n",
    "        \"\"\"\n",
    "        Initializes the weights and biases for each layer\n",
    "        :param layer_dimensions: (list) number of nodes in each layer\n",
    "        :param drop_prob: drop probability for dropout layers. Only required in part 2 of the assignment\n",
    "        :param reg_lambda: regularization parameter. Only required in part 2 of the assignment\n",
    "        \"\"\"\n",
    "        np.random.seed(1)\n",
    "        \n",
    "        self.parameters = {}\n",
    "        self.num_layers = len(layer_dimensions)-1\n",
    "        self.parameters[\"batch_index\"]=0\n",
    "        self.drop_prob = drop_prob\n",
    "        self.reg_lambda = reg_lambda\n",
    "        self.cache_dropout=[]\n",
    "        \n",
    "        # init parameters\n",
    "        for l in range(1,len(layer_dimensions)):\n",
    "            self.parameters['W' + str(l)] = np.random.randn(layer_dimensions[l],layer_dimensions[l-1])*0.01\n",
    "            self.parameters['b' + str(l)] = np.zeros((layer_dimensions[l],1))\n",
    "\n",
    "        \n",
    "    def affineForward(self, A, W, b):\n",
    "        \"\"\"\n",
    "        Forward pass for the affine layer.\n",
    "        :param A: input matrix, shape (L, S), where L is the number of hidden units in the previous layer and S is\n",
    "        the number of samples\n",
    "        :returns: the affine product WA + b, along with the cache required for the backward pass\n",
    "        \"\"\"\n",
    "        Z = np.dot(W,A)+b\n",
    "        if np.isnan(W[0][0]):\n",
    "            print(\"w = \",W)\n",
    "            print(\"A=\",A)\n",
    "        cache = (A,W,b,Z)\n",
    "        return Z,cache\n",
    "        \n",
    "\n",
    "    def activationForward(self, A, activation):\n",
    "        \"\"\"\n",
    "        Common interface to access all activation functions.\n",
    "        :param A: input to the activation function\n",
    "        :param prob: activation funciton to apply to A. Just \"relu\" for this assignment.\n",
    "        :returns: activation(A)\n",
    "        \"\"\" \n",
    "        # A is basically Z = np.dot(W,A)+b\n",
    "        if activation==\"relu\":\n",
    "            return self.relu(A)\n",
    "        \n",
    "        elif activation==\"softmax\":\n",
    "            temp = self.softmax(A)\n",
    "            if temp.size==0:\n",
    "                print(A)\n",
    "            else:\n",
    "                return temp\n",
    "\n",
    "\n",
    "    def relu(self, X):\n",
    "        return np.maximum(0,X)\n",
    "    \n",
    "    def softmax(self, X):\n",
    "        e_x = np.exp(X - np.max(X))\n",
    "        return e_x / e_x.sum(axis=0)\n",
    "            \n",
    "    def dropout(self, A, prob):\n",
    "        \"\"\"\n",
    "        :param A: Activation\n",
    "        :param prob: drop prob\n",
    "        :returns: tuple (A, M) \n",
    "            WHERE\n",
    "            A is matrix after applying dropout\n",
    "            M is dropout mask, used in the backward pass\n",
    "        \"\"\"\n",
    "        M = np.random.rand(A.shape[0],A.shape[1])\n",
    "        M = (M> prob)*1.0\n",
    "        M /= (1-prob)\n",
    "        A*=M\n",
    "        return A, M\n",
    "\n",
    "    def forwardPropagation(self, X):\n",
    "        \"\"\"\n",
    "        Runs an input X through the neural network to compute activations\n",
    "        for all layers. Returns the output computed at the last layer along\n",
    "        with the cache required for backpropagation.\n",
    "        :returns: (tuple) AL, cache\n",
    "            WHERE \n",
    "            AL is activation of last layer\n",
    "            cache is cached values for each layer that\n",
    "                     are needed in further steps\n",
    "        \"\"\"\n",
    "        caches = []\n",
    "        A = X\n",
    "        L = len(self.parameters) // 2                 # number of layers in the neural network\n",
    "        for l in range(1,L):\n",
    "            A_prev = A\n",
    "            Z, cache = self.affineForward(A_prev, self.parameters['W' + str(l)],self.parameters['b' + str(l)])\n",
    "            A = self.activationForward(Z, activation=\"relu\")\n",
    "            caches.append(cache)\n",
    "            if self.drop_prob > 0:\n",
    "                A,M=self.dropout(A,self.drop_prob)\n",
    "                self.cache_dropout.append(M)\n",
    "            \n",
    "            \n",
    "        ZL, cache_final_layer = self.affineForward(A, self.parameters['W' + str(L)],self.parameters['b' + str(L)])\n",
    "        AL = self.activationForward(ZL, activation=\"softmax\")\n",
    "\n",
    "        caches.append(cache_final_layer)\n",
    "        return AL, caches\n",
    "    \n",
    "    def costFunction(self, AL, y):\n",
    "        \"\"\"\n",
    "        :param AL: Activation of last layer, shape (num_classes, S)\n",
    "        :param y: labels, shape (S)\n",
    "        :param alpha: regularization parameter\n",
    "        :returns cost, dAL: A scalar denoting cost and the gradient of cost\n",
    "        \"\"\"        \n",
    "        m = y.shape[0]\n",
    "        AL_softmax = AL\n",
    "        correct_label_prob = AL_softmax[y,range(m)]\n",
    "        cost = - np.sum(np.log(correct_label_prob))/m\n",
    "        cost = np.squeeze(cost)\n",
    "        \n",
    "        if(self.reg_lambda>0):\n",
    "            cost = cost + (self.reg_lambda/(2*m))*np.sum([np.sum(np.square(self.parameters[\"W\"+str(i)])) for i in range(1,self.num_layers+1)])\n",
    "        \n",
    "        dAL = self.softmax_derivative(AL,y)\n",
    "        return cost,dAL\n",
    "    \n",
    "    def softmax_derivative(self,AL,Y):\n",
    "        \"\"\"\n",
    "        Implement the backward propagation for output Softmax unit\n",
    "        Arguments:\n",
    "        AL -- output unit, of  shape (10,m) where 10 is number of output units in this case and m is number of examples\n",
    "        Y -- output vector\n",
    "        returns:\n",
    "        dZ -- gradient of softmax with respect to Z\n",
    "        \"\"\"\n",
    "        return AL - one_hot(Y)\n",
    "\n",
    "    def affineBackward(self, dA_prev, cache):\n",
    "        \"\"\"\n",
    "        Backward pass for the affine layer.\n",
    "        :param dA_prev: gradient from the next layer.\n",
    "        :param cache: cache returned in affineForward\n",
    "        :returns dA: gradient on the input to this layer\n",
    "                 dW: gradient on the weights\n",
    "                 db: gradient on the bias\n",
    "        \"\"\"\n",
    "        #dA_prev is dz from layer l(input)\n",
    "\n",
    "        A_prev,W,b,Z = cache\n",
    "        m = A_prev.shape[1]\n",
    "        dW = np.dot(dA_prev,A_prev.T)/m\n",
    "        db = np.sum(dA_prev,axis=1, keepdims=True)/m\n",
    "        dA = np.dot(W.T,dA_prev)\n",
    "\n",
    "        return dA, dW, db\n",
    "\n",
    "    def activationBackward(self, dA, cache, activation=\"relu\"):\n",
    "        \"\"\"\n",
    "        Interface to call backward on activation functions.\n",
    "        In this case, it's just relu. \n",
    "        \"\"\"\n",
    "        \n",
    "        A_prev,W,b,Z = cache\n",
    "        \n",
    "        if activation==\"relu\":\n",
    "            return self.relu_derivative(dA,Z)\n",
    "        \n",
    "    def relu_derivative(self, dx, cached_x):\n",
    "        \"\"\"\n",
    "        Implement the backward propagation for a single RELU unit.\n",
    "\n",
    "        Arguments:\n",
    "        dA -- post-activation gradient, of any shape\n",
    "        cache -- 'Z' where we store for computing backward propagation efficiently\n",
    "\n",
    "        Returns:\n",
    "        dZ -- Gradient of the cost with respect to Z\n",
    "        \"\"\"\n",
    "        # When z <= 0, you should set dz to 0 as well. \n",
    "        dx[cached_x < 0] = 0\n",
    "        return dx      \n",
    "    \n",
    "    def dropout_backward(self, dA, cache):\n",
    "        #Here cache is M basically\n",
    "        dA= dA * cache\n",
    "        return dA\n",
    "\n",
    "    def backPropagation(self, dAL, Y, cache):\n",
    "        \"\"\"\n",
    "        Run backpropagation to compute gradients on all paramters in the model\n",
    "        :param dAL: gradient on the last layer of the network. Returned by the cost function.\n",
    "        :param Y: labels\n",
    "        :param cache: cached values during forwardprop\n",
    "        :returns gradients: dW and db for each weight/bias\n",
    "        \"\"\"\n",
    "        \n",
    "        gradients = {}\n",
    "        L = len(cache)\n",
    "        m = dAL.shape[1]\n",
    "\n",
    "        # Lth layer (SOFTMAX -> LINEAR) gradients. Inputs: \"dAL, Y, caches\". Outputs: \"grads[\"dAL\"], grads[\"dWL\"], grads[\"dbL\"]\n",
    "        # dAL parameter in the function is actualy dZL = AL - one_hot(Y)\n",
    "        current_cache = cache[L-1]\n",
    "        gradients[\"dA\" + str(L)], gradients[\"dW\" + str(L)], gradients[\"db\" + str(L)] = self.affineBackward(dAL,current_cache)        \n",
    "        \n",
    "        for l in reversed(range(L-1)):\n",
    "            # lth layer: (RELU -> LINEAR) gradients.\n",
    "            # Inputs: \"grads[\"dA\" + str(l + 2)], caches\". Outputs: \"grads[\"dA\" + str(l + 1)] , grads[\"dW\" + str(l + 1)] , grads[\"db\" + str(l + 1)] \n",
    "            current_cache = cache[l]\n",
    "            dA_prev_non_linear = self.activationBackward(gradients[\"dA\" + str(l + 2)],current_cache,\"relu\")\n",
    "            dA_prev, dW_temp, db_temp = self.affineBackward(dA_prev_non_linear,current_cache)\n",
    "            gradients[\"dA\" + str(l + 1)] = dA_prev\n",
    "            gradients[\"dW\" + str(l + 1)] = dW_temp\n",
    "            gradients[\"db\" + str(l + 1)] = db_temp\n",
    "            if self.reg_lambda > 0:\n",
    "                gradients[\"dW\" + str(l+1)] = gradients[\"dW\" + str(l+1)] + np.multiply(self.reg_lambda,self.parameters[\"W\" + str(l+1)]) / m\n",
    "        \n",
    "            if self.drop_prob > 0:\n",
    "                gradients[\"dA\" + str(l + 1)] = self.dropout_backward(gradients[\"dA\" + str(l + 1)],self.cache_dropout[l])\n",
    "                \n",
    "           \n",
    "        if self.reg_lambda > 0:\n",
    "            gradients[\"dW\" + str(L)] = gradients[\"dW\" + str(L)] + np.multiply(self.reg_lambda,self.parameters[\"W\" + str(L)]) / m\n",
    "        return gradients\n",
    "\n",
    "\n",
    "    def updateParameters(self, gradients, alpha):\n",
    "        \"\"\"\n",
    "        :param gradients: gradients for each weight/bias\n",
    "        :param alpha: step size for gradient descent \n",
    "        \"\"\"\n",
    "        L = len(self.parameters) // 2 # number of layers in the neural network\n",
    "        # Update rule for each parameter. Use a for loop.\n",
    "        ### START CODE HERE ### (≈ 3 lines of code)\n",
    "        for l in range(L):\n",
    "            self.parameters[\"W\" + str(l+1)] = self.parameters[\"W\" + str(l+1)] - alpha*gradients[\"dW\" + str(l+1)]\n",
    "            self.parameters[\"b\" + str(l+1)] = self.parameters[\"b\" + str(l+1)] - alpha*gradients[\"db\" + str(l+1)]\n",
    "        \n",
    "    def train(self, X, y, iters=1000, alpha=0.0001, batch_size=100, print_every=100):\n",
    "        \"\"\"\n",
    "        :param X: input samples, each column is a sample\n",
    "        :param y: labels for input samples, y.shape[0] must equal X.shape[1]\n",
    "        :param iters: number of training iterations\n",
    "        :param alpha: step size for gradient descent\n",
    "        :param batch_size: number of samples in a minibatch\n",
    "        :param print_every: no. of iterations to print debug info after\n",
    "        \"\"\"\n",
    "        batch_iters = (int)(X.shape[1]/batch_size)\n",
    "        for i in range(0, iters):\n",
    "            self.parameters[\"batch_index\"] = 0\n",
    "            for j in range(batch_iters):\n",
    "                # get minibatch\n",
    "                X_batch,Y_batch=self.get_batch( X, y, batch_size)\n",
    "                # forward prop\n",
    "                AL, all_layer_cache = self.forwardPropagation(X_batch)\n",
    "\n",
    "                # compute loss\n",
    "                cost,dAL = self.costFunction(AL, Y_batch)\n",
    "\n",
    "                # compute gradients\n",
    "                gradients=self.backPropagation(dAL, Y_batch, all_layer_cache)\n",
    "                \n",
    "                # update weights and biases based on gradient\n",
    "                self.updateParameters(gradients, alpha)\n",
    "            if i % print_every == 0:\n",
    "                # print cost, train and validation set accuracies\n",
    "                print(\"Cost: \", cost)\n",
    "        \n",
    "    def predict(self, X):\n",
    "        \"\"\"\n",
    "        Make predictions for each sample\n",
    "        \"\"\"\n",
    "        y_pred, cache = self.forwardPropagation(X)\n",
    "        y_pred = self.softmax(y_pred)\n",
    "        predicted_labels=[]\n",
    "        for i in range(y_pred.shape[1]):\n",
    "            label_predicted=max(y_pred[:,i])\n",
    "            predicted_labels.append(y_pred[:,i].tolist().index(label_predicted))\n",
    "    \n",
    "        return predicted_labels\n",
    "\n",
    "    def get_batch(self, X, y, batch_size):\n",
    "        \"\"\"\n",
    "        Return minibatch of samples and labels\n",
    "        \n",
    "        :param X, y: samples and corresponding labels\n",
    "        :parma batch_size: minibatch size\n",
    "        :returns: (tuple) X_batch, y_batch\n",
    "        \"\"\"\n",
    "        current_index=self.parameters[\"batch_index\"]\n",
    "        self.parameters[\"batch_index\"]=self.parameters[\"batch_index\"]+batch_size\n",
    "        X_batch,y_batch = X[:,current_index:current_index+batch_size], y[current_index:current_index+batch_size]\n",
    "\n",
    "        return X_batch, y_batch"
   ]
  },
  {
   "cell_type": "code",
   "execution_count": 3,
   "metadata": {
    "collapsed": true
   },
   "outputs": [],
   "source": [
    "# Helper functions, DO NOT modify this\n",
    "\n",
    "def get_img_array(path):\n",
    "    \"\"\"\n",
    "    Given path of image, returns it's numpy array\n",
    "    \"\"\"\n",
    "    return scipy.misc.imread(path)\n",
    "\n",
    "def get_files(folder):\n",
    "    \"\"\"\n",
    "    Given path to folder, returns list of files in it\n",
    "    \"\"\"\n",
    "    filenames = [file for file in glob.glob(folder+'*/*')]\n",
    "    filenames.sort()\n",
    "    return filenames\n",
    "\n",
    "def get_label(filepath, label2id):\n",
    "    \"\"\"\n",
    "    Files are assumed to be labeled as: /path/to/file/999_frog.png\n",
    "    Returns label for a filepath\n",
    "    \"\"\"\n",
    "    tokens = filepath.split('/')\n",
    "    label = tokens[-1].split('_')[1][:-4]\n",
    "    if label in label2id:\n",
    "        return label2id[label]\n",
    "    else:\n",
    "        sys.exit(\"Invalid label: \" + label)"
   ]
  },
  {
   "cell_type": "code",
   "execution_count": 1,
   "metadata": {
    "collapsed": true
   },
   "outputs": [],
   "source": [
    "# Functions to load data, DO NOT change these\n",
    "\n",
    "def get_labels(folder, label2id):\n",
    "    \"\"\"\n",
    "    Returns vector of labels extracted from filenames of all files in folder\n",
    "    :param folder: path to data folder\n",
    "    :param label2id: mapping of text labels to numeric ids. (Eg: automobile -> 0)\n",
    "    \"\"\"\n",
    "    files = get_files(folder)\n",
    "    y = []\n",
    "    for f in files:\n",
    "        y.append(get_label(f,label2id))\n",
    "    return np.array(y)\n",
    "\n",
    "def one_hot(y, num_classes=10):\n",
    "    \"\"\"\n",
    "    Converts each label index in y to vector with one_hot encoding\n",
    "    One-hot encoding converts categorical labels to binary values\n",
    "    \"\"\"\n",
    "    y_one_hot = np.zeros((num_classes, y.shape[0]))\n",
    "    y_one_hot[y, range(y.shape[0])] = 1\n",
    "    return y_one_hot\n",
    "\n",
    "def get_label_mapping(label_file):\n",
    "    \"\"\"\n",
    "    Returns mappings of label to index and index to label\n",
    "    The input file has list of labels, each on a separate line.\n",
    "    \"\"\"\n",
    "    with open(label_file, 'r') as f:\n",
    "        id2label = f.readlines()\n",
    "        id2label = [l.strip() for l in id2label]\n",
    "    label2id = {}\n",
    "    count = 0\n",
    "    for label in id2label:\n",
    "        label2id[label] = count\n",
    "        count += 1\n",
    "    return id2label, label2id\n",
    "\n",
    "def get_images(folder):\n",
    "    \"\"\"\n",
    "    returns numpy array of all samples in folder\n",
    "    each column is a sample resized to 30x30 and flattened\n",
    "    \"\"\"\n",
    "    files = get_files(folder)\n",
    "    print(files,\"files\")\n",
    "    images = []\n",
    "    count = 0\n",
    "    \n",
    "    for f in files:\n",
    "        count += 1\n",
    "        if count % 10000 == 0:\n",
    "            print(\"Loaded {}/{}\".format(count,len(files)))\n",
    "        img_arr = get_img_array(f)\n",
    "        img_arr = img_arr.flatten() / 255.0\n",
    "        images.append(img_arr)\n",
    "    X = np.column_stack(images)\n",
    "\n",
    "    return X\n",
    "\n",
    "def get_train_data(data_root_path):\n",
    "    \"\"\"\n",
    "    Return X and y\n",
    "    \"\"\"\n",
    "    train_data_path = data_root_path + 'train'\n",
    "    id2label, label2id = get_label_mapping(data_root_path+'labels.txt')\n",
    "    print(label2id)\n",
    "    X = get_images(train_data_path)\n",
    "    y = get_labels(train_data_path, label2id)\n",
    "    return X, y\n",
    "\n",
    "def save_predictions(filename, y):\n",
    "    \"\"\"\n",
    "    Dumps y into .npy file\n",
    "    \"\"\"\n",
    "    np.save(filename, y)"
   ]
  },
  {
   "cell_type": "code",
   "execution_count": 5,
   "metadata": {},
   "outputs": [
    {
     "name": "stdout",
     "output_type": "stream",
     "text": [
      "{'airplane': 0, 'automobile': 1, 'bird': 2, 'cat': 3, 'deer': 4, 'dog': 5, 'frog': 6, 'horse': 7, 'ship': 8, 'truck': 9}\n",
      "Loaded 10000/50000\n",
      "Loaded 20000/50000\n",
      "Loaded 30000/50000\n",
      "Loaded 40000/50000\n",
      "Loaded 50000/50000\n",
      "Loaded 10000/10000\n",
      "Data loading done\n"
     ]
    }
   ],
   "source": [
    "# Load the data\n",
    "data_root_path = 'cifar10-hw1/'\n",
    "X_train, y_train = get_train_data(data_root_path) # this may take a few minutes\n",
    "X_test = get_images(data_root_path + 'test')\n",
    "print('Data loading done')"
   ]
  },
  {
   "cell_type": "code",
   "execution_count": 6,
   "metadata": {
    "collapsed": true
   },
   "outputs": [],
   "source": [
    "X_validate = X_train[:,45001:50000]\n",
    "Y_validate = y_train[45001:50000]\n",
    "\n",
    "X_train_temp = X_train[:,:45000]\n",
    "Y_train_temp = y_train[:45000]\n",
    "\n",
    "layer_dimensions_testing = [X_train_temp.shape[0],200,100,10]  # including the input and output layers\n",
    "\n",
    "NN_test = NeuralNetwork(layer_dimensions_testing)"
   ]
  },
  {
   "cell_type": "code",
   "execution_count": 7,
   "metadata": {
    "scrolled": false
   },
   "outputs": [
    {
     "name": "stdout",
     "output_type": "stream",
     "text": [
      "Cost:  2.00354165621\n",
      "Cost:  1.49419885342\n",
      "Cost:  1.26331600184\n",
      "Cost:  1.09878281674\n",
      "Cost:  0.935991552424\n",
      "Cost:  0.955828276332\n",
      "Cost:  0.777220562799\n",
      "Cost:  0.793491477183\n",
      "Cost:  0.719714036605\n",
      "Cost:  0.556888695817\n"
     ]
    }
   ],
   "source": [
    "NN_test.train(X_train_temp, Y_train_temp, iters=100, alpha=0.1, batch_size=100, print_every=10)"
   ]
  },
  {
   "cell_type": "code",
   "execution_count": 8,
   "metadata": {
    "scrolled": false
   },
   "outputs": [
    {
     "name": "stdout",
     "output_type": "stream",
     "text": [
      "[ 0.08864504  0.08836611  0.08838112  0.16858777  0.12080552  0.09075662\n",
      "  0.08864027  0.08836899  0.08839702  0.08905153]\n"
     ]
    },
    {
     "data": {
      "text/plain": [
       "(10, 4999)"
      ]
     },
     "execution_count": 8,
     "metadata": {},
     "output_type": "execute_result"
    }
   ],
   "source": [
    "y_predicted_validate = NN_test.predict(X_validate)\n",
    "print(y_predicted_validate[:,1])\n",
    "len(y_predicted_validate)\n",
    "y_predicted_validate.shape"
   ]
  },
  {
   "cell_type": "code",
   "execution_count": 12,
   "metadata": {},
   "outputs": [
    {
     "data": {
      "text/plain": [
       "46.389277855571116"
      ]
     },
     "execution_count": 12,
     "metadata": {},
     "output_type": "execute_result"
    }
   ],
   "source": [
    "from sklearn.metrics import accuracy_score\n",
    "accuracy_score(predicted_labels,Y_validate)*100"
   ]
  },
  {
   "cell_type": "markdown",
   "metadata": {},
   "source": [
    "## Part 1\n",
    "\n",
    "#### Simple fully-connected deep neural network"
   ]
  },
  {
   "cell_type": "code",
   "execution_count": 13,
   "metadata": {
    "scrolled": false
   },
   "outputs": [
    {
     "name": "stdout",
     "output_type": "stream",
     "text": [
      "Cost:  2.0267290797\n"
     ]
    }
   ],
   "source": [
    "layer_dimensions = [X_train.shape[0], 200,100, 10]  # including the input and output layers\n",
    "NN = NeuralNetwork(layer_dimensions)\n",
    "NN.train(X_train, y_train, iters=100, alpha=0.1, batch_size=100, print_every=100)"
   ]
  },
  {
   "cell_type": "code",
   "execution_count": 14,
   "metadata": {
    "collapsed": true
   },
   "outputs": [],
   "source": [
    "y_predicted = NN.predict(X_test)\n",
    "save_predictions('ans1-tm2761', y_predicted)"
   ]
  },
  {
   "cell_type": "code",
   "execution_count": 15,
   "metadata": {},
   "outputs": [
    {
     "name": "stdout",
     "output_type": "stream",
     "text": [
      "(10000,)\n"
     ]
    },
    {
     "data": {
      "text/plain": [
       "array([3, 8, 0, 3, 5, 1, 8, 4, 8, 1])"
      ]
     },
     "execution_count": 15,
     "metadata": {},
     "output_type": "execute_result"
    }
   ],
   "source": [
    "# test if your numpy file has been saved correctly\n",
    "loaded_y = np.load('ans1-tm2761.npy')\n",
    "print(loaded_y.shape)\n",
    "loaded_y[:10]"
   ]
  },
  {
   "cell_type": "markdown",
   "metadata": {
    "collapsed": true
   },
   "source": [
    "## Part 2: Regularizing the neural network\n",
    "#### Add dropout and L2 regularization"
   ]
  },
  {
   "cell_type": "code",
   "execution_count": 16,
   "metadata": {},
   "outputs": [
    {
     "name": "stdout",
     "output_type": "stream",
     "text": [
      "Cost:  2.02601511453\n",
      "Cost:  1.48231966678\n",
      "Cost:  1.32818367956\n",
      "Cost:  1.19440113688\n",
      "Cost:  1.11033931286\n",
      "Cost:  1.03347161284\n",
      "Cost:  0.873631487726\n",
      "Cost:  0.825223326575\n",
      "Cost:  0.799545125109\n",
      "Cost:  0.957933363379\n"
     ]
    }
   ],
   "source": [
    "NN2 = NeuralNetwork(layer_dimensions, drop_prob=0.2, reg_lambda=0.01)\n",
    "NN2.train(X_train, y_train, iters=100, alpha=0.11, batch_size=100, print_every=10)"
   ]
  },
  {
   "cell_type": "code",
   "execution_count": 17,
   "metadata": {
    "collapsed": true
   },
   "outputs": [],
   "source": [
    "y_predicted2 = NN2.predict(X_test)\n",
    "save_predictions('ans2-tm2761',y_predicted)"
   ]
  },
  {
   "cell_type": "code",
   "execution_count": 19,
   "metadata": {},
   "outputs": [
    {
     "name": "stdout",
     "output_type": "stream",
     "text": [
      "Accuracy= 70.9341868374\n"
     ]
    }
   ],
   "source": [
    "y_validate2 = NN2.predict(X_validate)\n",
    "print(\"Accuracy=\",accuracy_score(y_validate2,Y_validate)*100)"
   ]
  },
  {
   "cell_type": "code",
   "execution_count": null,
   "metadata": {
    "collapsed": true
   },
   "outputs": [],
   "source": []
  }
 ],
 "metadata": {
  "kernelspec": {
   "display_name": "Python 3",
   "language": "python",
   "name": "python3"
  },
  "language_info": {
   "codemirror_mode": {
    "name": "ipython",
    "version": 3
   },
   "file_extension": ".py",
   "mimetype": "text/x-python",
   "name": "python",
   "nbconvert_exporter": "python",
   "pygments_lexer": "ipython3",
   "version": "3.6.3"
  }
 },
 "nbformat": 4,
 "nbformat_minor": 2
}
