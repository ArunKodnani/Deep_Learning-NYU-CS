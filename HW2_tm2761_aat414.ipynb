{
 "cells": [
  {
   "cell_type": "markdown",
   "metadata": {},
   "source": [
    "# Assignment 2\n",
    "\n",
    "### Implementing a CNN using tensorflow on the cifar10 dataset\n",
    "\n",
    "Ajay Thorve\n",
    "\n",
    "Titash Mandal"
   ]
  },
  {
   "cell_type": "markdown",
   "metadata": {},
   "source": [
    "## Importing required Modules"
   ]
  },
  {
   "cell_type": "code",
   "execution_count": 1,
   "metadata": {},
   "outputs": [
    {
     "name": "stderr",
     "output_type": "stream",
     "text": [
      "/usr/local/lib/python3.6/site-packages/h5py/__init__.py:36: FutureWarning: Conversion of the second argument of issubdtype from `float` to `np.floating` is deprecated. In future, it will be treated as `np.float64 == np.dtype(float).type`.\n",
      "  from ._conv import register_converters as _register_converters\n"
     ]
    }
   ],
   "source": [
    "%matplotlib inline\n",
    "import matplotlib.pyplot as plt\n",
    "import numpy as np\n",
    "import scipy.misc\n",
    "from scipy.ndimage import imread\n",
    "import glob \n",
    "import sys\n",
    "import pandas as pd\n",
    "import math\n",
    "import numpy as np\n",
    "import h5py\n",
    "from PIL import Image\n",
    "from scipy import ndimage\n",
    "import tensorflow as tf\n",
    "from tensorflow.python.framework import ops\n",
    "import sys,os\n",
    "\n",
    "np.random.seed(1)"
   ]
  },
  {
   "cell_type": "code",
   "execution_count": 2,
   "metadata": {},
   "outputs": [
    {
     "name": "stdout",
     "output_type": "stream",
     "text": [
      "Populating the interactive namespace from numpy and matplotlib\n"
     ]
    },
    {
     "name": "stderr",
     "output_type": "stream",
     "text": [
      "/usr/local/lib/python3.6/site-packages/IPython/core/magics/pylab.py:160: UserWarning: pylab import has clobbered these variables: ['imread']\n",
      "`%matplotlib` prevents importing * from pylab and numpy\n",
      "  \"\\n`%matplotlib` prevents importing * from pylab and numpy\"\n"
     ]
    }
   ],
   "source": [
    "%pylab inline\n",
    "import matplotlib.pyplot as plt\n",
    "import matplotlib.image as mpimg"
   ]
  },
  {
   "cell_type": "code",
   "execution_count": 3,
   "metadata": {},
   "outputs": [
    {
     "name": "stdout",
     "output_type": "stream",
     "text": [
      "First few elements : \n"
     ]
    },
    {
     "data": {
      "text/plain": [
       "{0: 'airplane',\n",
       " 1: 'automobile',\n",
       " 2: 'bird',\n",
       " 3: 'cat',\n",
       " 4: 'deer',\n",
       " 5: 'dog',\n",
       " 6: 'frog',\n",
       " 7: 'horse',\n",
       " 8: 'ship',\n",
       " 9: 'truck'}"
      ]
     },
     "execution_count": 3,
     "metadata": {},
     "output_type": "execute_result"
    }
   ],
   "source": [
    "#Initializing the variables\n",
    "labels_path = '/data/labels.txt'\n",
    "sample_path = '/data/sampleSubmission.csv'\n",
    "train_path = '/data/train/'\n",
    "test_path = '/data/test/'\n",
    "\n",
    "#Printing the labels to see what the output labels are\n",
    "labels = pd.read_csv(labels_path,header=None)\n",
    "print(\"First few elements : \")\n",
    "labels= labels.to_dict()\n",
    "labels=labels[0]\n",
    "labels"
   ]
  },
  {
   "cell_type": "markdown",
   "metadata": {},
   "source": [
    "<h1> Applying Image augmentation techniques</h1>"
   ]
  },
  {
   "cell_type": "code",
   "execution_count": 4,
   "metadata": {
    "collapsed": true
   },
   "outputs": [],
   "source": [
    "def flipping_Image(X_train):\n",
    "    X_flipped_updown= []\n",
    "    X_flipped_left_right= []\n",
    "    X_contrasted=[]\n",
    "    X_cropped = []\n",
    "    X = tf.placeholder(tf.float32, shape = (32, 32, 3))\n",
    "    \n",
    "    X_flipped= tf.image.flip_up_down(X)\n",
    "    \n",
    "    X_flipped_sides= tf.image.flip_left_right(X)\n",
    "    \n",
    "    contrasting = tf.image.random_brightness(X, max_delta=0.2)\n",
    "#     random_img_cropped = tf.random_crop(X,[24,24,3])\n",
    "#     img_final = tf.image.resize_image_with_crop_or_pad(random_img_cropped,32,32)\n",
    "    \n",
    "    with tf.Session() as sess:\n",
    "        sess.run(tf.global_variables_initializer())\n",
    "        for images in X_train:\n",
    "            X_flipped_temp = sess.run(X_flipped,feed_dict={X:images})\n",
    "            X_flipped_updown.append(X_flipped_temp)\n",
    "            \n",
    "            X_flipped_sides_temp = sess.run(X_flipped_sides, feed_dict={X:images})\n",
    "            X_flipped_left_right.append(X_flipped_sides_temp)\n",
    "            \n",
    "            contrasting_temp = sess.run(contrasting,feed_dict={X:images})\n",
    "            X_contrasted.append(contrasting_temp)\n",
    "            \n",
    "#             X_cropped_temp = sess.run(img_final,feed_dict={X:images})\n",
    "#             X_cropped.append(X_cropped_temp)\n",
    "            \n",
    "    X_flipped_updown = np.asarray(X_flipped_updown)\n",
    "    X_flipped_left_right = np.asarray(X_flipped_left_right)\n",
    "    X_contrasted = np.asarray(X_contrasted)\n",
    "    X_cropped = np.asarray(X_cropped)\n",
    "    \n",
    "    return X_flipped_updown,X_flipped_left_right,X_contrasted\n"
   ]
  },
  {
   "cell_type": "markdown",
   "metadata": {},
   "source": [
    "<h1> Extracting the training examples first</h1>"
   ]
  },
  {
   "cell_type": "code",
   "execution_count": 5,
   "metadata": {
    "collapsed": true
   },
   "outputs": [],
   "source": [
    "def one_hot(y, num_classes=10):\n",
    "    \"\"\"\n",
    "    Converts each label index in y to vector with one_hot encoding\n",
    "    One-hot encoding converts categorical labels to binary values\n",
    "    \"\"\"\n",
    "\n",
    "    y_one_hot = np.zeros((num_classes, y.shape[0]))\n",
    "    y_one_hot[y, range(y.shape[0])] = 1\n",
    "    print(y_one_hot.shape)\n",
    "    return y_one_hot\n",
    "\n",
    "def get_label(filepath):\n",
    "    \"\"\"\n",
    "    Files are assumed to be labeled as: /path/to/file/999_frog.png\n",
    "    Returns label for a filepath\n",
    "    \"\"\"\n",
    "    tokens = filepath.split('/')\n",
    "    label = tokens[-1].split('_')[1][:-4]\n",
    "    return label\n",
    "\n",
    "#Extracting the samples one by one\n",
    "def get_images(path, image_type):\n",
    "    X_train_list = []\n",
    "    Y_train_list=[]\n",
    "    #The glob module finds all the pathnames matching a specified pattern according to the rules used by the Unix shell, \n",
    "    #although results are returned in arbitrary order. \n",
    "    for filename in glob.glob(path + '/*'+ image_type):\n",
    "        Y_train_list.append(get_label(filename))\n",
    "        im=scipy.misc.imread(filename, mode='RGB')\n",
    "        X_train_list.append(im)\n",
    "    return X_train_list,Y_train_list\n",
    "\n",
    "def get_image_test(path, image_type):\n",
    "    X_test_list = []\n",
    "    x_dict_temp ={}\n",
    "    #The glob module finds all the pathnames matching a specified pattern according to the rules used by the Unix shell, \n",
    "    #although results are returned in arbitrary order. \n",
    "    for filename in glob.glob(path + '/*'+ image_type):\n",
    "        im=scipy.misc.imread(filename, mode='RGB')\n",
    "        y_temp = int(filename.split('/')[3].split('.')[0])\n",
    "        temp_tuple = (y_temp,im)\n",
    "        X_test_list.append(temp_tuple)\n",
    "        X_dict = dict(X_test_list)\n",
    "        x_dict_temp = dict(sorted(X_dict.items()))\n",
    "    return np.array(list(x_dict_temp.values()))"
   ]
  },
  {
   "cell_type": "code",
   "execution_count": 6,
   "metadata": {
    "collapsed": true
   },
   "outputs": [],
   "source": [
    "X_train_list,Y_train_list=get_images(train_path, '.png')\n",
    "X_train = np.array(X_train_list)\n",
    "Y_train=np.array(Y_train_list)\n",
    "X_test=get_image_test(test_path, '.png')\n",
    "\n",
    "factor_value=pd.factorize(Y_train,sort=True)"
   ]
  },
  {
   "cell_type": "code",
   "execution_count": 7,
   "metadata": {},
   "outputs": [
    {
     "data": {
      "text/plain": [
       "<matplotlib.image.AxesImage at 0x7fcf501352e8>"
      ]
     },
     "execution_count": 7,
     "metadata": {},
     "output_type": "execute_result"
    },
    {
     "data": {
      "image/png": "[encoded data removed]",
      "text/plain": [
       "<matplotlib.figure.Figure at 0x7fcf506cef98>"
      ]
     },
     "metadata": {},
     "output_type": "display_data"
    }
   ],
   "source": [
    "imshow(X_test[0])"
   ]
  },
  {
   "cell_type": "markdown",
   "metadata": {},
   "source": [
    "### Displaying some images along with true labels from train set"
   ]
  },
  {
   "cell_type": "code",
   "execution_count": 8,
   "metadata": {
    "collapsed": true
   },
   "outputs": [],
   "source": [
    "def show_images():\n",
    "    fig, axes = plt.subplots(3, 3)\n",
    "    fig.subplots_adjust(hspace=0.6, wspace=0.3)\n",
    "    \n",
    "    for i, ax in enumerate(axes.flat):\n",
    "        # Plot image.\n",
    "        ax.imshow(X_train[i])\n",
    "        \n",
    "        # Name of the true class.\n",
    "        cls_true_name = labels[factor_value[0][i]]\n",
    "        xlabel = \"class: {0}\".format(cls_true_name)\n",
    "        \n",
    "        # Show the classes as the label on the x-axis.\n",
    "        ax.set_xlabel(xlabel)\n",
    "        \n",
    "        # Remove ticks from the plot.\n",
    "        ax.set_xticks([])\n",
    "        ax.set_yticks([])\n",
    "    return\n",
    "# show_images()"
   ]
  },
  {
   "cell_type": "code",
   "execution_count": null,
   "metadata": {
    "collapsed": true
   },
   "outputs": [],
   "source": [
    "X_flipped_updown,X_flipped_left_right,X_contrasted=flipping_Image(X_train)"
   ]
  },
  {
   "cell_type": "code",
   "execution_count": 11,
   "metadata": {},
   "outputs": [
    {
     "data": {
      "text/plain": [
       "(180000, 32, 32, 3)"
      ]
     },
     "execution_count": 11,
     "metadata": {},
     "output_type": "execute_result"
    }
   ],
   "source": [
    "X_train_final = np.concatenate((X_train,X_flipped_updown,X_flipped_left_right,X_contrasted),axis=0)\n",
    "X_train_final.shape"
   ]
  },
  {
   "cell_type": "markdown",
   "metadata": {},
   "source": [
    "<h1>Extracting the labels for training examples</h1>"
   ]
  },
  {
   "cell_type": "code",
   "execution_count": 12,
   "metadata": {
    "scrolled": true
   },
   "outputs": [
    {
     "name": "stdout",
     "output_type": "stream",
     "text": [
      "(10, 45000)\n"
     ]
    }
   ],
   "source": [
    "\n",
    "Y_train=one_hot(factor_value[0]).T\n",
    "Y_train_final = np.concatenate((Y_train,Y_train,Y_train,Y_train),axis=0)\n",
    "\n",
    "#Normalizing the images, creating a validation set and a training set\n",
    "\n",
    "X_train_final_version = X_train_final[0:170000,:,:,:]/255\n",
    "X_validate = X_train_final[170000:,:,:,:]/255\n",
    "X_test=X_test/255\n",
    "Y_train_final_version = Y_train_final[0:170000,:]\n",
    "Y_validate = Y_train_final[170000:,:]"
   ]
  },
  {
   "cell_type": "code",
   "execution_count": 13,
   "metadata": {},
   "outputs": [
    {
     "name": "stdout",
     "output_type": "stream",
     "text": [
      "Dimension of X_train (170000, 32, 32, 3)\n",
      "Dimension of Y_train (170000, 10)\n"
     ]
    }
   ],
   "source": [
    "print(\"Dimension of X_train\",X_train_final_version.shape)\n",
    "print(\"Dimension of Y_train\",Y_train_final_version.shape)"
   ]
  },
  {
   "cell_type": "code",
   "execution_count": 14,
   "metadata": {},
   "outputs": [
    {
     "name": "stdout",
     "output_type": "stream",
     "text": [
      "Dimension of X_test (5000, 32, 32, 3)\n",
      "Dimension of X_validate (10000, 32, 32, 3)\n",
      "Dimension of Y_validate (10000, 10)\n"
     ]
    }
   ],
   "source": [
    "print(\"Dimension of X_test\",X_test.shape)\n",
    "print(\"Dimension of X_validate\",X_validate.shape)\n",
    "print(\"Dimension of Y_validate\",Y_validate.shape)"
   ]
  },
  {
   "cell_type": "markdown",
   "metadata": {},
   "source": [
    "## Helper Functions"
   ]
  },
  {
   "cell_type": "markdown",
   "metadata": {},
   "source": [
    "### 1. Create Placeholders"
   ]
  },
  {
   "cell_type": "code",
   "execution_count": 28,
   "metadata": {
    "collapsed": true
   },
   "outputs": [],
   "source": [
    "def create_placeholders(m,n_H0, n_W0, n_C0, n_y):\n",
    "    \"\"\"\n",
    "    Creates the placeholders for the tensorflow session.\n",
    "    \n",
    "    Arguments:\n",
    "    n_H0 -- scalar, height of an input image\n",
    "    n_W0 -- scalar, width of an input image\n",
    "    n_C0 -- scalar, number of channels of the input\n",
    "    n_y -- scalar, number of classes\n",
    "        \n",
    "    Returns:\n",
    "    X -- placeholder for the data input, of shape [None, n_H0, n_W0, n_C0] and dtype \"float\"\n",
    "    Y -- placeholder for the input labels, of shape [None, n_y] and dtype \"float\"\n",
    "    \"\"\"\n",
    "    \n",
    "    X = tf.placeholder(tf.float32, shape=(None, n_H0, n_W0, n_C0))\n",
    "    Y = tf.placeholder(tf.float32, shape=(None, n_y))\n",
    "    Istraining = tf.placeholder(tf.bool,shape=None)\n",
    "    return X, Y,Istraining\n"
   ]
  },
  {
   "cell_type": "markdown",
   "metadata": {},
   "source": [
    "### 2. Intialize Parameters"
   ]
  },
  {
   "cell_type": "code",
   "execution_count": 24,
   "metadata": {
    "collapsed": true
   },
   "outputs": [],
   "source": [
    "def initialize_parameters():\n",
    "    \"\"\"\n",
    "    Initializes weight parameters to build a neural network with tensorflow. The shapes are:\n",
    "     \n",
    "    parameters -- a dictionary of tensors containing W1, W2\n",
    "    \"\"\"\n",
    "    #W1 is a dictionary of filters of shapes\n",
    "    tf.set_random_seed(1)                              # so that your \"random\" numbers match ours\n",
    "        \n",
    "    ### START CODE HERE ### (approx. 2 lines of code)\n",
    "    W1 = tf.get_variable(\"W1\", [3, 3, 3, 32], initializer = tf.contrib.layers.xavier_initializer(seed = 0))\n",
    "\n",
    "    W2 = tf.get_variable(\"W2\", [3, 3, 32, 32], initializer = tf.contrib.layers.xavier_initializer(seed = 0))\n",
    "    W3 = tf.get_variable(\"W3\", [3, 3, 32, 64], initializer = tf.contrib.layers.xavier_initializer(seed = 0))\n",
    "    W4 = tf.get_variable(\"W4\", [3, 3, 64, 64], initializer = tf.contrib.layers.xavier_initializer(seed = 0))\n",
    "    ### END CODE HERE ###\n",
    "    \n",
    "    parameters = {\"W1\": W1,\n",
    "                  \"W2\": W2,\n",
    "                  \"W3\": W3,\n",
    "                    \"W4\" :W4 }\n",
    "    \n",
    "    return parameters"
   ]
  },
  {
   "cell_type": "markdown",
   "metadata": {},
   "source": [
    "### 3. Forward Propagation"
   ]
  },
  {
   "cell_type": "code",
   "execution_count": 49,
   "metadata": {
    "collapsed": true
   },
   "outputs": [],
   "source": [
    "def forward_propagation(X, parameters, Istraining):\n",
    "    \"\"\"\n",
    "    \n",
    "    Arguments:\n",
    "    X -- input dataset placeholder, of shape (input size, number of examples)\n",
    "    parameters -- python dictionary containing your parameters \"W1\", \"W2\"\n",
    "                  the shapes are given in initialize_parameters\n",
    "\n",
    "    Returns:\n",
    "    Z3 -- the output of the last LINEAR unit\n",
    "    \"\"\"\n",
    "    \n",
    "    # Retrieve the parameters from the dictionary \"parameters\" \n",
    "    W1 = parameters['W1']\n",
    "    W2 = parameters['W2']\n",
    "    W3 = parameters['W3']\n",
    "    W4 = parameters['W4']\n",
    "    \n",
    "    ### START CODE HERE ###\n",
    "    # CONV2D: stride of 1, padding 'SAME'\n",
    "    CON1 = tf.nn.conv2d(X,W1, strides = [1,1,1,1], padding = 'SAME')\n",
    "    # RELU\n",
    "    A1 = tf.nn.relu(CON1)\n",
    "    \n",
    "    tf.summary.histogram(\"W1-conv1\",W1)\n",
    "    \n",
    "    # CONV2D: filters W2, stride 1, padding 'SAME'\n",
    "    CON2 = tf.nn.conv2d(A1,W2, strides = [1,1,1,1], padding = 'SAME')\n",
    "    # RELU\n",
    "    A2 = tf.nn.relu(CON2)\n",
    "    \n",
    "    tf.summary.histogram(\"W2-conv2\",W2)\n",
    "    \n",
    "    P2 = tf.nn.max_pool(A2, ksize = [1,2,2,1], strides = [1,1,1,1], padding = 'SAME')\n",
    "    D2 = tf.layers.dropout(P2,0.8,training=Istraining)\n",
    "    \n",
    "    # CONV2D: stride of 1, padding 'SAME'\n",
    "    CON3 = tf.nn.conv2d(D2,W3, strides = [1,1,1,1], padding = 'SAME')\n",
    "    # RELU\n",
    "    A3 = tf.nn.relu(CON3)\n",
    "    \n",
    "    tf.summary.histogram(\"W3-conv3\",W3)\n",
    "    \n",
    "    # CONV2D: filters W2, stride 1, padding 'SAME'\n",
    "    CON4 = tf.nn.conv2d(A3,W4, strides = [1,1,1,1], padding = 'SAME')\n",
    "    # RELU\n",
    "    A3 = tf.nn.relu(CON4)\n",
    "    \n",
    "    tf.summary.histogram(\"W4-conv4\",W4)\n",
    "    \n",
    "    P3 = tf.nn.max_pool(A3, ksize = [1,2,2,1], strides = [1,1,1,1], padding = 'SAME')\n",
    "    D2 = tf.layers.dropout(P3,0.8,training=Istraining)\n",
    "    \n",
    "    FLAT1 = tf.contrib.layers.flatten(D2)\n",
    "    Z3 = tf.contrib.layers.fully_connected(FLAT1, 512)\n",
    "    Z4 = tf.contrib.layers.fully_connected(Z3, 10,activation_fn=None)\n",
    "    y_pred = tf.nn.softmax(Z4,name=\"y_pred\")\n",
    "    \n",
    "\n",
    "    return Z4"
   ]
  },
  {
   "cell_type": "markdown",
   "metadata": {},
   "source": [
    "### 4. Computing the cost - softmax cross entropy"
   ]
  },
  {
   "cell_type": "code",
   "execution_count": 50,
   "metadata": {
    "collapsed": true
   },
   "outputs": [],
   "source": [
    "def compute_cost(Z4, Y):\n",
    "    \"\"\"\n",
    "    Computes the cost\n",
    "    \n",
    "    Arguments:\n",
    "    Z3 -- output of forward propagation (output of the last LINEAR unit), of shape (10, number of examples)\n",
    "    Y -- \"true\" labels vector placeholder, same shape as Z3\n",
    "    \n",
    "    Returns:\n",
    "    cost - Tensor of the cost function\n",
    "    \"\"\"\n",
    "    \n",
    "    ### START CODE HERE ### (1 line of code)\n",
    "    #print(\"Inside compute_cost: Y.shape\",Y.shape,\"Z4.shape\",Z4.shape)\n",
    "    cost = tf.reduce_mean(tf.nn.softmax_cross_entropy_with_logits_v2(logits = Z4, labels = Y))\n",
    "    ### END CODE HERE ###\n",
    "    \n",
    "    return cost"
   ]
  },
  {
   "cell_type": "markdown",
   "metadata": {},
   "source": [
    "### 5. Get batch() - as TF works with input batches, this function helps split input data set into small batches"
   ]
  },
  {
   "cell_type": "code",
   "execution_count": 51,
   "metadata": {
    "collapsed": true
   },
   "outputs": [],
   "source": [
    " def get_batch(X, y, current_index,batch_size):\n",
    "        \"\"\"\n",
    "        Return minibatch of samples and labels\n",
    "        \n",
    "        :param X, y: samples and corresponding labels\n",
    "        :parma batch_size: minibatch size\n",
    "        :returns: (tuple) X_batch, y_batch\n",
    "        \"\"\"\n",
    "        X_batch,y_batch = X[current_index:current_index+batch_size,], y[current_index:current_index+batch_size]\n",
    "\n",
    "        return X_batch, y_batch"
   ]
  },
  {
   "cell_type": "markdown",
   "metadata": {},
   "source": [
    "### Create tensorflow graph\n",
    "\n",
    "    1. Placeholder variables used for inputting data to the graph.\n",
    "    2. Variables that are going to be optimized so as to make the convolutional network perform better.\n",
    "    3. The mathematical formulas for the convolutional network.\n",
    "    4. A loss measure that can be used to guide the optimization of the variables.\n",
    "    5. An optimization method which updates the variables."
   ]
  },
  {
   "cell_type": "markdown",
   "metadata": {},
   "source": [
    "### Create a tensorflow session"
   ]
  },
  {
   "cell_type": "markdown",
   "metadata": {},
   "source": [
    "### Restore or initialize variables\n",
    "\n",
    "Training this neural network may take a long time, especially if you do not have a GPU. We therefore save checkpoints during training so we can continue training at another time (e.g. during the night), and also for performing analysis later without having to train the neural network every time we want to use it.\n",
    "\n",
    "If you want to restart the training of the neural network, you have to delete the checkpoints first.\n",
    "\n",
    "This is the directory used for the checkpoints.\n"
   ]
  },
  {
   "cell_type": "code",
   "execution_count": 52,
   "metadata": {
    "collapsed": true
   },
   "outputs": [],
   "source": [
    "save_dir = 'checkpoints_augment/'\n",
    "\n",
    "#create the directory if it does not exist\n",
    "if not os.path.exists(save_dir):\n",
    "    os.makedirs(save_dir)\n"
   ]
  },
  {
   "cell_type": "markdown",
   "metadata": {},
   "source": [
    "This is the base-filename for the checkpoints, TensorFlow will append the iteration number, etc."
   ]
  },
  {
   "cell_type": "code",
   "execution_count": 53,
   "metadata": {
    "collapsed": true
   },
   "outputs": [],
   "source": [
    "save_path = os.path.join(save_dir, 'cifar10_cnn_augment')\n",
    "\n"
   ]
  },
  {
   "cell_type": "code",
   "execution_count": 54,
   "metadata": {},
   "outputs": [
    {
     "data": {
      "text/plain": [
       "'checkpoints_augment/cifar10_cnn_augment'"
      ]
     },
     "execution_count": 54,
     "metadata": {},
     "output_type": "execute_result"
    }
   ],
   "source": [
    "save_path"
   ]
  },
  {
   "cell_type": "markdown",
   "metadata": {},
   "source": [
    "First try to restore the latest checkpoint. This may fail and raise an exception e.g. if such a checkpoint does not exist, or if you have changed the TensorFlow graph."
   ]
  },
  {
   "cell_type": "code",
   "execution_count": 55,
   "metadata": {},
   "outputs": [
    {
     "name": "stdout",
     "output_type": "stream",
     "text": [
      "(m, n_H0, n_W0, n_C0,n_y) 170000 32 32 3 10\n"
     ]
    }
   ],
   "source": [
    "ops.reset_default_graph()                         # to be able to rerun the model without overwriting tf variables\n",
    "tf.set_random_seed(1)                             # to keep results consistent (tensorflow seed)\n",
    "(m, n_H0, n_W0, n_C0) = X_train_final_version.shape             \n",
    "n_y = Y_train_final_version.shape[1]\n",
    "print(\"(m, n_H0, n_W0, n_C0,n_y)\",m, n_H0, n_W0, n_C0,n_y)\n",
    "costs = []                                        # To keep track of the cost\n",
    "\n",
    "# Create Placeholders of the correct shape\n",
    "X, Y,Istraining = create_placeholders(m,n_H0, n_W0, n_C0, n_y)\n",
    "\n",
    "# Initialize parameters\n",
    "parameters = initialize_parameters()\n",
    "\n",
    "# Forward propagation: Build the forward propagation in the tensorflow graph\n",
    "Z3 = forward_propagation(X, parameters,Istraining)\n",
    "\n",
    "# Cost function: Add cost function to tensorflow graph\n",
    "cost = compute_cost(Z3, Y)\n",
    "\n",
    "global_step = tf.Variable(initial_value=0,\n",
    "                          name='global_step', trainable=False)\n",
    "\n",
    "# Backpropagation: Define the tensorflow optimizer. Use an AdamOptimizer that minimizes the cost.\n",
    "optimizer = tf.train.AdamOptimizer(learning_rate=.001).minimize(cost,global_step=global_step)\n",
    "\n",
    "saver = tf.train.Saver()"
   ]
  },
  {
   "cell_type": "code",
   "execution_count": 56,
   "metadata": {
    "collapsed": true
   },
   "outputs": [],
   "source": [
    "# Start the session to compute the tensorflow graph\n",
    "sess = tf.Session()"
   ]
  },
  {
   "cell_type": "code",
   "execution_count": 57,
   "metadata": {
    "collapsed": true
   },
   "outputs": [],
   "source": [
    "summaries = tf.summary.merge_all()"
   ]
  },
  {
   "cell_type": "code",
   "execution_count": 73,
   "metadata": {
    "collapsed": true
   },
   "outputs": [],
   "source": [
    "train_writer = tf.summary.FileWriter('output_tb',sess.graph)"
   ]
  },
  {
   "cell_type": "markdown",
   "metadata": {},
   "source": [
    "### 6. Model() - Implements a 3 layer ConvNet in TF"
   ]
  },
  {
   "cell_type": "code",
   "execution_count": 74,
   "metadata": {
    "collapsed": true
   },
   "outputs": [],
   "source": [
    "def model(X_train, Y_train,X_validate,Y_validate, learning_rate = 0.0001,num_epochs = 2, minibatch_size = 100, print_cost = True):\n",
    "    seed = 3                                          # to keep results consistent (numpy seed)\n",
    "\n",
    "    count=0\n",
    "    \n",
    "    num_minibatches = int(m / minibatch_size) # number of minibatches of size minibatch_size in the train set\n",
    "    # Do the training loop\n",
    "\n",
    "    for epoch in range(num_epochs):\n",
    "        current_index=0\n",
    "        count+=1\n",
    "        for each_batch in range(num_minibatches):\n",
    "\n",
    "            minibatch_cost = 0.\n",
    "            seed = seed + 1\n",
    "            # Select a minibatch\n",
    "            (minibatch_X, minibatch_Y) = get_batch(X_train, Y_train,current_index, 200)\n",
    "    #                 print(\"minibatch_X\",minibatch_X.shape,\"minibatch_Y\",minibatch_Y.shape)\n",
    "            current_index+=100\n",
    "            # Run the session to execute the optimizer and the cost, the feedict should contain a minibatch for (X,Y).\n",
    "            i_global,_ , temp_cost = sess.run([global_step,optimizer, cost], feed_dict={X:minibatch_X, Y:minibatch_Y, Istraining: True})\n",
    "\n",
    "            minibatch_cost += temp_cost / num_minibatches\n",
    "            if each_batch%100 == 0:\n",
    "                print('.',end='')\n",
    "\n",
    "    #       Print the cost every epoch\n",
    "        if print_cost == True and epoch % 1 == 0:\n",
    "            \n",
    "            summary_str = sess.run(summaries,feed_dict={X:minibatch_X, Y:minibatch_Y, Istraining: True})\n",
    "            train_writer.add_summary(summary_str,global_step=i_global)\n",
    "            \n",
    "            g_epoch = i_global/(X_train.shape[0]/minibatch_size)\n",
    "            print (\"\\nCost after epoch(global) %i: %f\" % (g_epoch, minibatch_cost))\n",
    "            saver.save(sess,save_path = save_path,global_step=global_step)\n",
    "            print(\"saved to\",save_path)\n",
    "            print(\"i_global\",i_global)\n",
    "            \n",
    "            graph = tf.get_default_graph()\n",
    "            y_pred = graph.get_tensor_by_name(\"y_pred:0\")\n",
    "            \n",
    "            res = sess.run(y_pred,feed_dict={X:X_test,Istraining: False})\n",
    "            predict_op = tf.argmax(res, 1)\n",
    "            predict_op = (predict_op.eval(session=sess))\n",
    "            correct_prediction = tf.equal(predict_op, tf.argmax(Y, 1))\n",
    "            accuracy = tf.reduce_mean(tf.cast(correct_prediction, \"float\"))\n",
    "            val_accuracy = accuracy.eval(feed_dict={X:X_test,Y: Y_finals,Istraining: False},session=sess)\n",
    "            print(\"Validation Accuracy:\", val_accuracy)\n",
    "            \n",
    "        if print_cost == True and epoch % 1 == 0:\n",
    "            costs.append(minibatch_cost)"
   ]
  },
  {
   "cell_type": "code",
   "execution_count": 75,
   "metadata": {},
   "outputs": [
    {
     "name": "stdout",
     "output_type": "stream",
     "text": [
      "Trying to restore last checkpoint ...\n",
      "INFO:tensorflow:Restoring parameters from checkpoints_augment/cifar10_cnn_augment-13600\n",
      "Restored checkpoint from: checkpoints_augment/cifar10_cnn_augment-13600\n"
     ]
    }
   ],
   "source": [
    "try:\n",
    "    print(\"Trying to restore last checkpoint ...\")\n",
    "\n",
    "    # Use TensorFlow to find the latest checkpoint - if any.\n",
    "    last_chk_path = tf.train.latest_checkpoint(checkpoint_dir=save_dir)\n",
    "\n",
    "    # Try and load the data in the checkpoint.\n",
    "    saver.restore(sess, save_path=last_chk_path)\n",
    "\n",
    "    # If we get to this point, the checkpoint was successfully loaded.\n",
    "    print(\"Restored checkpoint from:\", last_chk_path)\n",
    "except:\n",
    "    # If the above failed for some reason, simply\n",
    "    # initialize all the variables for the TensorFlow graph.\n",
    "    print(\"Failed to restore checkpoint. Initializing variables instead.\",sys.exc_info()[0])\n",
    "    sess.run(tf.global_variables_initializer())"
   ]
  },
  {
   "cell_type": "code",
   "execution_count": 76,
   "metadata": {
    "collapsed": true
   },
   "outputs": [],
   "source": [
    "sess.run(tf.global_variables_initializer())"
   ]
  },
  {
   "cell_type": "markdown",
   "metadata": {},
   "source": [
    "## Run the TF CNN model"
   ]
  },
  {
   "cell_type": "code",
   "execution_count": 77,
   "metadata": {
    "scrolled": true
   },
   "outputs": [
    {
     "name": "stdout",
     "output_type": "stream",
     "text": [
      ".................\n",
      "Cost after epoch(global) 1: 0.000729\n",
      "saved to checkpoints_augment/cifar10_cnn_augment\n",
      "i_global 1700\n",
      "Validation Accuracy: 0.4978\n",
      "..............."
     ]
    },
    {
     "ename": "KeyboardInterrupt",
     "evalue": "",
     "output_type": "error",
     "traceback": [
      "\u001b[0;31m---------------------------------------------------------------------------\u001b[0m",
      "\u001b[0;31mKeyboardInterrupt\u001b[0m                         Traceback (most recent call last)",
      "\u001b[0;32m<ipython-input-77-c3d24fa453fb>\u001b[0m in \u001b[0;36m<module>\u001b[0;34m()\u001b[0m\n\u001b[0;32m----> 1\u001b[0;31m \u001b[0mmodel\u001b[0m\u001b[0;34m(\u001b[0m\u001b[0mX_train_final_version\u001b[0m\u001b[0;34m,\u001b[0m \u001b[0mY_train_final_version\u001b[0m\u001b[0;34m,\u001b[0m\u001b[0mX_validate\u001b[0m\u001b[0;34m,\u001b[0m\u001b[0mY_validate\u001b[0m\u001b[0;34m)\u001b[0m\u001b[0;34m\u001b[0m\u001b[0m\n\u001b[0m",
      "\u001b[0;32m<ipython-input-74-aa1d406be40b>\u001b[0m in \u001b[0;36mmodel\u001b[0;34m(X_train, Y_train, X_validate, Y_validate, learning_rate, num_epochs, minibatch_size, print_cost)\u001b[0m\n\u001b[1;32m     19\u001b[0m             \u001b[0mcurrent_index\u001b[0m\u001b[0;34m+=\u001b[0m\u001b[0;36m100\u001b[0m\u001b[0;34m\u001b[0m\u001b[0m\n\u001b[1;32m     20\u001b[0m             \u001b[0;31m# Run the session to execute the optimizer and the cost, the feedict should contain a minibatch for (X,Y).\u001b[0m\u001b[0;34m\u001b[0m\u001b[0;34m\u001b[0m\u001b[0m\n\u001b[0;32m---> 21\u001b[0;31m             \u001b[0mi_global\u001b[0m\u001b[0;34m,\u001b[0m\u001b[0m_\u001b[0m \u001b[0;34m,\u001b[0m \u001b[0mtemp_cost\u001b[0m \u001b[0;34m=\u001b[0m \u001b[0msess\u001b[0m\u001b[0;34m.\u001b[0m\u001b[0mrun\u001b[0m\u001b[0;34m(\u001b[0m\u001b[0;34m[\u001b[0m\u001b[0mglobal_step\u001b[0m\u001b[0;34m,\u001b[0m\u001b[0moptimizer\u001b[0m\u001b[0;34m,\u001b[0m \u001b[0mcost\u001b[0m\u001b[0;34m]\u001b[0m\u001b[0;34m,\u001b[0m \u001b[0mfeed_dict\u001b[0m\u001b[0;34m=\u001b[0m\u001b[0;34m{\u001b[0m\u001b[0mX\u001b[0m\u001b[0;34m:\u001b[0m\u001b[0mminibatch_X\u001b[0m\u001b[0;34m,\u001b[0m \u001b[0mY\u001b[0m\u001b[0;34m:\u001b[0m\u001b[0mminibatch_Y\u001b[0m\u001b[0;34m,\u001b[0m \u001b[0mIstraining\u001b[0m\u001b[0;34m:\u001b[0m \u001b[0;32mTrue\u001b[0m\u001b[0;34m}\u001b[0m\u001b[0;34m)\u001b[0m\u001b[0;34m\u001b[0m\u001b[0m\n\u001b[0m\u001b[1;32m     22\u001b[0m \u001b[0;34m\u001b[0m\u001b[0m\n\u001b[1;32m     23\u001b[0m             \u001b[0mminibatch_cost\u001b[0m \u001b[0;34m+=\u001b[0m \u001b[0mtemp_cost\u001b[0m \u001b[0;34m/\u001b[0m \u001b[0mnum_minibatches\u001b[0m\u001b[0;34m\u001b[0m\u001b[0m\n",
      "\u001b[0;32m/usr/local/lib/python3.6/site-packages/tensorflow/python/client/session.py\u001b[0m in \u001b[0;36mrun\u001b[0;34m(self, fetches, feed_dict, options, run_metadata)\u001b[0m\n\u001b[1;32m    893\u001b[0m     \u001b[0;32mtry\u001b[0m\u001b[0;34m:\u001b[0m\u001b[0;34m\u001b[0m\u001b[0m\n\u001b[1;32m    894\u001b[0m       result = self._run(None, fetches, feed_dict, options_ptr,\n\u001b[0;32m--> 895\u001b[0;31m                          run_metadata_ptr)\n\u001b[0m\u001b[1;32m    896\u001b[0m       \u001b[0;32mif\u001b[0m \u001b[0mrun_metadata\u001b[0m\u001b[0;34m:\u001b[0m\u001b[0;34m\u001b[0m\u001b[0m\n\u001b[1;32m    897\u001b[0m         \u001b[0mproto_data\u001b[0m \u001b[0;34m=\u001b[0m \u001b[0mtf_session\u001b[0m\u001b[0;34m.\u001b[0m\u001b[0mTF_GetBuffer\u001b[0m\u001b[0;34m(\u001b[0m\u001b[0mrun_metadata_ptr\u001b[0m\u001b[0;34m)\u001b[0m\u001b[0;34m\u001b[0m\u001b[0m\n",
      "\u001b[0;32m/usr/local/lib/python3.6/site-packages/tensorflow/python/client/session.py\u001b[0m in \u001b[0;36m_run\u001b[0;34m(self, handle, fetches, feed_dict, options, run_metadata)\u001b[0m\n\u001b[1;32m   1126\u001b[0m     \u001b[0;32mif\u001b[0m \u001b[0mfinal_fetches\u001b[0m \u001b[0;32mor\u001b[0m \u001b[0mfinal_targets\u001b[0m \u001b[0;32mor\u001b[0m \u001b[0;34m(\u001b[0m\u001b[0mhandle\u001b[0m \u001b[0;32mand\u001b[0m \u001b[0mfeed_dict_tensor\u001b[0m\u001b[0;34m)\u001b[0m\u001b[0;34m:\u001b[0m\u001b[0;34m\u001b[0m\u001b[0m\n\u001b[1;32m   1127\u001b[0m       results = self._do_run(handle, final_targets, final_fetches,\n\u001b[0;32m-> 1128\u001b[0;31m                              feed_dict_tensor, options, run_metadata)\n\u001b[0m\u001b[1;32m   1129\u001b[0m     \u001b[0;32melse\u001b[0m\u001b[0;34m:\u001b[0m\u001b[0;34m\u001b[0m\u001b[0m\n\u001b[1;32m   1130\u001b[0m       \u001b[0mresults\u001b[0m \u001b[0;34m=\u001b[0m \u001b[0;34m[\u001b[0m\u001b[0;34m]\u001b[0m\u001b[0;34m\u001b[0m\u001b[0m\n",
      "\u001b[0;32m/usr/local/lib/python3.6/site-packages/tensorflow/python/client/session.py\u001b[0m in \u001b[0;36m_do_run\u001b[0;34m(self, handle, target_list, fetch_list, feed_dict, options, run_metadata)\u001b[0m\n\u001b[1;32m   1342\u001b[0m     \u001b[0;32mif\u001b[0m \u001b[0mhandle\u001b[0m \u001b[0;32mis\u001b[0m \u001b[0;32mNone\u001b[0m\u001b[0;34m:\u001b[0m\u001b[0;34m\u001b[0m\u001b[0m\n\u001b[1;32m   1343\u001b[0m       return self._do_call(_run_fn, self._session, feeds, fetches, targets,\n\u001b[0;32m-> 1344\u001b[0;31m                            options, run_metadata)\n\u001b[0m\u001b[1;32m   1345\u001b[0m     \u001b[0;32melse\u001b[0m\u001b[0;34m:\u001b[0m\u001b[0;34m\u001b[0m\u001b[0m\n\u001b[1;32m   1346\u001b[0m       \u001b[0;32mreturn\u001b[0m \u001b[0mself\u001b[0m\u001b[0;34m.\u001b[0m\u001b[0m_do_call\u001b[0m\u001b[0;34m(\u001b[0m\u001b[0m_prun_fn\u001b[0m\u001b[0;34m,\u001b[0m \u001b[0mself\u001b[0m\u001b[0;34m.\u001b[0m\u001b[0m_session\u001b[0m\u001b[0;34m,\u001b[0m \u001b[0mhandle\u001b[0m\u001b[0;34m,\u001b[0m \u001b[0mfeeds\u001b[0m\u001b[0;34m,\u001b[0m \u001b[0mfetches\u001b[0m\u001b[0;34m)\u001b[0m\u001b[0;34m\u001b[0m\u001b[0m\n",
      "\u001b[0;32m/usr/local/lib/python3.6/site-packages/tensorflow/python/client/session.py\u001b[0m in \u001b[0;36m_do_call\u001b[0;34m(self, fn, *args)\u001b[0m\n\u001b[1;32m   1348\u001b[0m   \u001b[0;32mdef\u001b[0m \u001b[0m_do_call\u001b[0m\u001b[0;34m(\u001b[0m\u001b[0mself\u001b[0m\u001b[0;34m,\u001b[0m \u001b[0mfn\u001b[0m\u001b[0;34m,\u001b[0m \u001b[0;34m*\u001b[0m\u001b[0margs\u001b[0m\u001b[0;34m)\u001b[0m\u001b[0;34m:\u001b[0m\u001b[0;34m\u001b[0m\u001b[0m\n\u001b[1;32m   1349\u001b[0m     \u001b[0;32mtry\u001b[0m\u001b[0;34m:\u001b[0m\u001b[0;34m\u001b[0m\u001b[0m\n\u001b[0;32m-> 1350\u001b[0;31m       \u001b[0;32mreturn\u001b[0m \u001b[0mfn\u001b[0m\u001b[0;34m(\u001b[0m\u001b[0;34m*\u001b[0m\u001b[0margs\u001b[0m\u001b[0;34m)\u001b[0m\u001b[0;34m\u001b[0m\u001b[0m\n\u001b[0m\u001b[1;32m   1351\u001b[0m     \u001b[0;32mexcept\u001b[0m \u001b[0merrors\u001b[0m\u001b[0;34m.\u001b[0m\u001b[0mOpError\u001b[0m \u001b[0;32mas\u001b[0m \u001b[0me\u001b[0m\u001b[0;34m:\u001b[0m\u001b[0;34m\u001b[0m\u001b[0m\n\u001b[1;32m   1352\u001b[0m       \u001b[0mmessage\u001b[0m \u001b[0;34m=\u001b[0m \u001b[0mcompat\u001b[0m\u001b[0;34m.\u001b[0m\u001b[0mas_text\u001b[0m\u001b[0;34m(\u001b[0m\u001b[0me\u001b[0m\u001b[0;34m.\u001b[0m\u001b[0mmessage\u001b[0m\u001b[0;34m)\u001b[0m\u001b[0;34m\u001b[0m\u001b[0m\n",
      "\u001b[0;32m/usr/local/lib/python3.6/site-packages/tensorflow/python/client/session.py\u001b[0m in \u001b[0;36m_run_fn\u001b[0;34m(session, feed_dict, fetch_list, target_list, options, run_metadata)\u001b[0m\n\u001b[1;32m   1327\u001b[0m           return tf_session.TF_Run(session, options,\n\u001b[1;32m   1328\u001b[0m                                    \u001b[0mfeed_dict\u001b[0m\u001b[0;34m,\u001b[0m \u001b[0mfetch_list\u001b[0m\u001b[0;34m,\u001b[0m \u001b[0mtarget_list\u001b[0m\u001b[0;34m,\u001b[0m\u001b[0;34m\u001b[0m\u001b[0m\n\u001b[0;32m-> 1329\u001b[0;31m                                    status, run_metadata)\n\u001b[0m\u001b[1;32m   1330\u001b[0m \u001b[0;34m\u001b[0m\u001b[0m\n\u001b[1;32m   1331\u001b[0m     \u001b[0;32mdef\u001b[0m \u001b[0m_prun_fn\u001b[0m\u001b[0;34m(\u001b[0m\u001b[0msession\u001b[0m\u001b[0;34m,\u001b[0m \u001b[0mhandle\u001b[0m\u001b[0;34m,\u001b[0m \u001b[0mfeed_dict\u001b[0m\u001b[0;34m,\u001b[0m \u001b[0mfetch_list\u001b[0m\u001b[0;34m)\u001b[0m\u001b[0;34m:\u001b[0m\u001b[0;34m\u001b[0m\u001b[0m\n",
      "\u001b[0;31mKeyboardInterrupt\u001b[0m: "
     ]
    }
   ],
   "source": [
    "model(X_train_final_version, Y_train_final_version,X_validate,Y_validate)"
   ]
  },
  {
   "cell_type": "code",
   "execution_count": 66,
   "metadata": {},
   "outputs": [
    {
     "data": {
      "image/png": "[encoded data removed]",
      "text/plain": [
       "<matplotlib.figure.Figure at 0x7fcd6c7ffa58>"
      ]
     },
     "metadata": {},
     "output_type": "display_data"
    }
   ],
   "source": [
    "# plot the cost\n",
    "plt.plot(np.squeeze(costs))\n",
    "plt.ylabel('cost')\n",
    "plt.xlabel('iterations (per tens)')\n",
    "plt.title(\"Learning rate =\" + str(0.001))\n",
    "plt.show()"
   ]
  },
  {
   "cell_type": "markdown",
   "metadata": {},
   "source": [
    "<h1>Testing</h1>"
   ]
  },
  {
   "cell_type": "markdown",
   "metadata": {},
   "source": [
    "## Prediction and final csv generation"
   ]
  },
  {
   "cell_type": "code",
   "execution_count": 67,
   "metadata": {},
   "outputs": [
    {
     "name": "stdout",
     "output_type": "stream",
     "text": [
      "INFO:tensorflow:Restoring parameters from checkpoints_augment/cifar10_cnn_augment-13600\n",
      "Restored checkpoint from: checkpoints_augment/cifar10_cnn_augment-13600\n"
     ]
    }
   ],
   "source": [
    "# Use TensorFlow to find the latest checkpoint - if any.\n",
    "last_chk_path = tf.train.latest_checkpoint(checkpoint_dir=save_dir)\n",
    "\n",
    "# Try and load the data in the checkpoint.\n",
    "saver.restore(sess, save_path=last_chk_path)\n",
    "\n",
    "# If we get to this point, the checkpoint was successfully loaded.\n",
    "print(\"Restored checkpoint from:\", last_chk_path)\n",
    "\n"
   ]
  },
  {
   "cell_type": "code",
   "execution_count": 69,
   "metadata": {},
   "outputs": [
    {
     "data": {
      "text/plain": [
       "0.7418"
      ]
     },
     "execution_count": 69,
     "metadata": {},
     "output_type": "execute_result"
    }
   ],
   "source": [
    "val_accuracy"
   ]
  },
  {
   "cell_type": "code",
   "execution_count": 48,
   "metadata": {},
   "outputs": [
    {
     "name": "stdout",
     "output_type": "stream",
     "text": [
      "INFO:tensorflow:Restoring parameters from checkpoints_augment/cifar10_cnn_augment-88400\n",
      "Restored checkpoint from: checkpoints_augment/cifar10_cnn_augment-88400\n"
     ]
    }
   ],
   "source": [
    "# Use TensorFlow to find the latest checkpoint - if any.\n",
    "last_chk_path = tf.train.latest_checkpoint(checkpoint_dir=save_dir)\n",
    "\n",
    "# Try and load the data in the checkpoint.\n",
    "saver.restore(sess, save_path=last_chk_path)\n",
    "\n",
    "# If we get to this point, the checkpoint was successfully loaded.\n",
    "print(\"Restored checkpoint from:\", last_chk_path)\n",
    "\n",
    "\n",
    "\n",
    "\n",
    "graph = tf.get_default_graph()\n",
    "\n",
    "y_pred = graph.get_tensor_by_name(\"y_pred:0\")\n",
    "\n",
    "feed_dict_testing = {X: X_test,Istraining: False}\n",
    "\n",
    "result=sess.run(y_pred, feed_dict=feed_dict_testing)\n",
    "\n",
    "predict_op = tf.argmax(result, 1)\n",
    "\n",
    "final_list= predict_op.eval(session=sess)\n",
    "\n",
    "s= \"\"\n",
    "s = s+\"id,label\\n\"\n",
    "for i in range(1,5001):\n",
    "    s=s+str(str(i-1)+\",\"+labels[final_list[i-1]]+\"\\n\")\n",
    "\n",
    "f = open('Final_Submission.csv','w')\n",
    "f.write(s)\n",
    "f.close()"
   ]
  },
  {
   "cell_type": "code",
   "execution_count": null,
   "metadata": {
    "collapsed": true
   },
   "outputs": [],
   "source": []
  }
 ],
 "metadata": {
  "kernelspec": {
   "display_name": "Python 3",
   "language": "python",
   "name": "python3"
  },
  "language_info": {
   "codemirror_mode": {
    "name": "ipython",
    "version": 3
   },
   "file_extension": ".py",
   "mimetype": "text/x-python",
   "name": "python",
   "nbconvert_exporter": "python",
   "pygments_lexer": "ipython3",
   "version": "3.6.3"
  }
 },
 "nbformat": 4,
 "nbformat_minor": 2
}
